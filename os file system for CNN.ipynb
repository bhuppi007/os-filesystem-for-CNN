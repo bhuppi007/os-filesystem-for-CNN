{
 "cells": [
  {
   "cell_type": "code",
   "execution_count": 120,
   "id": "44cd4ee8",
   "metadata": {},
   "outputs": [],
   "source": [
    "import numpy as np\n",
    "import pandas as pd\n",
    "import os\n",
    "import shutil"
   ]
  },
  {
   "cell_type": "code",
   "execution_count": 121,
   "id": "ee4cdcaf",
   "metadata": {},
   "outputs": [],
   "source": [
    "if not os.path.exists(\"Dataset\"):\n",
    "    os.mkdir(\"Dataset\")\n",
    "if not os.path.exists(\"Dataset\\\\cats\"):\n",
    "    os.mkdir(\"Dataset\\\\cats\")\n",
    "if not os.path.exists(\"Dataset\\\\dogs\"):\n",
    "    os.mkdir(\"Dataset\\\\dogs\")\n",
    "if not os.path.exists(\"validation_dataset\"):\n",
    "    os.mkdir(\"validation_dataset\")\n",
    "if not os.path.exists(\"validation_dataset\\\\cats\"):\n",
    "    os.mkdir(\"validation_dataset\\\\cats\")\n",
    "if not os.path.exists(\"validation_dataset\\\\dogs\"):\n",
    "    os.mkdir(\"validation_dataset\\\\dogs\")"
   ]
  },
  {
   "cell_type": "code",
   "execution_count": 122,
   "id": "27789d4a",
   "metadata": {},
   "outputs": [
    {
     "name": "stdout",
     "output_type": "stream",
     "text": [
      "Y\n"
     ]
    }
   ],
   "source": [
    "if os.listdir(\"train\")[0][:3] == \"cat\":\n",
    "    print(\"Y\")"
   ]
  },
  {
   "cell_type": "code",
   "execution_count": 123,
   "id": "5490a7bf",
   "metadata": {},
   "outputs": [],
   "source": [
    "directory = os.listdir(\"train\")"
   ]
  },
  {
   "cell_type": "code",
   "execution_count": 124,
   "id": "154493a4",
   "metadata": {},
   "outputs": [],
   "source": [
    "length = len(directory)"
   ]
  },
  {
   "cell_type": "code",
   "execution_count": 125,
   "id": "48acb5b1",
   "metadata": {},
   "outputs": [],
   "source": [
    "for i in range(length):\n",
    "    if directory[i][:3] == \"cat\":\n",
    "        # check if images are below 100\n",
    "        if len(os.listdir(\"Dataset\\\\cats\")) < 10000:\n",
    "            shutil.copy(\"train\\\\\"+directory[i], \"Dataset\\\\cats\")\n",
    "        else:\n",
    "            shutil.copy(\"train\\\\\"+directory[i], \"validation_dataset\\\\cats\")\n",
    "    else:\n",
    "        if len(os.listdir(\"Dataset\\\\dogs\")) < 10000:\n",
    "            shutil.copy(\"train\\\\\"+directory[i], \"Dataset\\\\dogs\")\n",
    "        else:\n",
    "            shutil.copy(\"train\\\\\"+directory[i], \"validation_dataset\\\\dogs\")"
   ]
  },
  {
   "cell_type": "code",
   "execution_count": 126,
   "id": "8052ec2d",
   "metadata": {},
   "outputs": [
    {
     "data": {
      "text/plain": [
       "10000"
      ]
     },
     "execution_count": 126,
     "metadata": {},
     "output_type": "execute_result"
    }
   ],
   "source": [
    "len(os.listdir(\"Dataset\\\\cats\"))"
   ]
  }
 ],
 "metadata": {
  "kernelspec": {
   "display_name": "Python 3",
   "language": "python",
   "name": "python3"
  },
  "language_info": {
   "codemirror_mode": {
    "name": "ipython",
    "version": 3
   },
   "file_extension": ".py",
   "mimetype": "text/x-python",
   "name": "python",
   "nbconvert_exporter": "python",
   "pygments_lexer": "ipython3",
   "version": "3.7.10"
  }
 },
 "nbformat": 4,
 "nbformat_minor": 5
}
